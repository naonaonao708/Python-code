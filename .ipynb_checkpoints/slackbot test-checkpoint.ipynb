{
 "cells": [
  {
   "cell_type": "code",
   "execution_count": 1,
   "metadata": {},
   "outputs": [],
   "source": [
    "import numpy as np\n",
    "import pandas as pd\n",
    "import datetime\n",
    "import calendar\n",
    "from dateutil import relativedelta\n",
    "import xlrd\n",
    "import pprint"
   ]
  },
  {
   "cell_type": "code",
   "execution_count": 2,
   "metadata": {},
   "outputs": [],
   "source": [
    "df = pd.read_excel('excel file/test.xlsx', index_col=0)"
   ]
  },
  {
   "cell_type": "code",
   "execution_count": 3,
   "metadata": {},
   "outputs": [
    {
     "data": {
      "text/html": [
       "<div>\n",
       "<style scoped>\n",
       "    .dataframe tbody tr th:only-of-type {\n",
       "        vertical-align: middle;\n",
       "    }\n",
       "\n",
       "    .dataframe tbody tr th {\n",
       "        vertical-align: top;\n",
       "    }\n",
       "\n",
       "    .dataframe thead th {\n",
       "        text-align: right;\n",
       "    }\n",
       "</style>\n",
       "<table border=\"1\" class=\"dataframe\">\n",
       "  <thead>\n",
       "    <tr style=\"text-align: right;\">\n",
       "      <th></th>\n",
       "      <th>end</th>\n",
       "      <th>name</th>\n",
       "    </tr>\n",
       "    <tr>\n",
       "      <th>start</th>\n",
       "      <th></th>\n",
       "      <th></th>\n",
       "    </tr>\n",
       "  </thead>\n",
       "  <tbody>\n",
       "    <tr>\n",
       "      <td>44438</td>\n",
       "      <td>44451</td>\n",
       "      <td>山口、木村、澤井</td>\n",
       "    </tr>\n",
       "    <tr>\n",
       "      <td>44452</td>\n",
       "      <td>44465</td>\n",
       "      <td>持田、村越</td>\n",
       "    </tr>\n",
       "    <tr>\n",
       "      <td>44466</td>\n",
       "      <td>44479</td>\n",
       "      <td>小林、伊藤</td>\n",
       "    </tr>\n",
       "    <tr>\n",
       "      <td>44480</td>\n",
       "      <td>44493</td>\n",
       "      <td>佐々木、中山</td>\n",
       "    </tr>\n",
       "  </tbody>\n",
       "</table>\n",
       "</div>"
      ],
      "text/plain": [
       "         end      name\n",
       "start                 \n",
       "44438  44451  山口、木村、澤井\n",
       "44452  44465     持田、村越\n",
       "44466  44479     小林、伊藤\n",
       "44480  44493    佐々木、中山"
      ]
     },
     "execution_count": 3,
     "metadata": {},
     "output_type": "execute_result"
    }
   ],
   "source": [
    "df"
   ]
  },
  {
   "cell_type": "code",
   "execution_count": 2,
   "metadata": {},
   "outputs": [],
   "source": [
    "df_sheet2 = pd.read_excel('excel file/test.xlsx', sheet_name='Sheet2')"
   ]
  },
  {
   "cell_type": "code",
   "execution_count": 3,
   "metadata": {},
   "outputs": [
    {
     "data": {
      "text/html": [
       "<div>\n",
       "<style scoped>\n",
       "    .dataframe tbody tr th:only-of-type {\n",
       "        vertical-align: middle;\n",
       "    }\n",
       "\n",
       "    .dataframe tbody tr th {\n",
       "        vertical-align: top;\n",
       "    }\n",
       "\n",
       "    .dataframe thead th {\n",
       "        text-align: right;\n",
       "    }\n",
       "</style>\n",
       "<table border=\"1\" class=\"dataframe\">\n",
       "  <thead>\n",
       "    <tr style=\"text-align: right;\">\n",
       "      <th></th>\n",
       "      <th>start</th>\n",
       "      <th>end</th>\n",
       "      <th>name</th>\n",
       "    </tr>\n",
       "  </thead>\n",
       "  <tbody>\n",
       "    <tr>\n",
       "      <td>0</td>\n",
       "      <td>44424</td>\n",
       "      <td>44436</td>\n",
       "      <td>梶野、持田、村越</td>\n",
       "    </tr>\n",
       "    <tr>\n",
       "      <td>1</td>\n",
       "      <td>44437</td>\n",
       "      <td>44450</td>\n",
       "      <td>平野、伊藤、小林</td>\n",
       "    </tr>\n",
       "    <tr>\n",
       "      <td>2</td>\n",
       "      <td>44451</td>\n",
       "      <td>44464</td>\n",
       "      <td>大谷、小原、中山</td>\n",
       "    </tr>\n",
       "    <tr>\n",
       "      <td>3</td>\n",
       "      <td>44465</td>\n",
       "      <td>44478</td>\n",
       "      <td>旭、澤井、木村</td>\n",
       "    </tr>\n",
       "    <tr>\n",
       "      <td>4</td>\n",
       "      <td>44479</td>\n",
       "      <td>44493</td>\n",
       "      <td>遠藤、山口、市川</td>\n",
       "    </tr>\n",
       "    <tr>\n",
       "      <td>5</td>\n",
       "      <td>44494</td>\n",
       "      <td>44507</td>\n",
       "      <td>高橋、和田、森</td>\n",
       "    </tr>\n",
       "  </tbody>\n",
       "</table>\n",
       "</div>"
      ],
      "text/plain": [
       "   start    end      name\n",
       "0  44424  44436  梶野、持田、村越\n",
       "1  44437  44450  平野、伊藤、小林\n",
       "2  44451  44464  大谷、小原、中山\n",
       "3  44465  44478   旭、澤井、木村\n",
       "4  44479  44493  遠藤、山口、市川\n",
       "5  44494  44507   高橋、和田、森"
      ]
     },
     "execution_count": 3,
     "metadata": {},
     "output_type": "execute_result"
    }
   ],
   "source": [
    "df_sheet2"
   ]
  },
  {
   "cell_type": "code",
   "execution_count": 32,
   "metadata": {},
   "outputs": [
    {
     "name": "stdout",
     "output_type": "stream",
     "text": [
      "平野、伊藤、小林\n"
     ]
    }
   ],
   "source": [
    "#今日の日付をシリアル値にして担当の週の人だけを抽出\n",
    "dt = datetime.date.today() - datetime.date(1899, 12, 31)\n",
    "today_serial = dt.days + 1\n",
    "for n in range(0,len(df_sheet2['name'])-1):\n",
    "    start = df_sheet2['start'][n]\n",
    "    end = df_sheet2['end'][n]\n",
    "    if start <= today_serial <= end:\n",
    "        print(df_sheet2['name'][n])\n",
    "    else:\n",
    "        pass"
   ]
  },
  {
   "cell_type": "code",
   "execution_count": null,
   "metadata": {},
   "outputs": [],
   "source": []
  }
 ],
 "metadata": {
  "kernelspec": {
   "display_name": "Python 3",
   "language": "python",
   "name": "python3"
  },
  "language_info": {
   "codemirror_mode": {
    "name": "ipython",
    "version": 3
   },
   "file_extension": ".py",
   "mimetype": "text/x-python",
   "name": "python",
   "nbconvert_exporter": "python",
   "pygments_lexer": "ipython3",
   "version": "3.7.4"
  }
 },
 "nbformat": 4,
 "nbformat_minor": 4
}
